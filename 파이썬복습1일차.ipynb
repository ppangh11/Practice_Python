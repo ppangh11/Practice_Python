{
 "cells": [
  {
   "cell_type": "markdown",
   "id": "eac7a1da",
   "metadata": {},
   "source": [
    "# 문자열,텍스트 다루기"
   ]
  },
  {
   "cell_type": "code",
   "execution_count": 1,
   "id": "ab0c07e4",
   "metadata": {},
   "outputs": [
    {
     "data": {
      "text/plain": [
       "['a', 'b', 'c']"
      ]
     },
     "execution_count": 1,
     "metadata": {},
     "output_type": "execute_result"
    }
   ],
   "source": [
    "str = \"a,b,c\"\n",
    "str.split(',') #()안에 들어가는건 구분자 ex) 콤바, 공백 등등"
   ]
  },
  {
   "cell_type": "code",
   "execution_count": 2,
   "id": "04f82de3",
   "metadata": {},
   "outputs": [
    {
     "data": {
      "text/plain": [
       "['a', 'b', 'c d']"
      ]
     },
     "execution_count": 2,
     "metadata": {},
     "output_type": "execute_result"
    }
   ],
   "source": [
    "str = \"a b c d\"\n",
    "str.split(maxsplit=2) #maxsplit은 앞 n개 까지만 공백으로 분리하고 나머지는 한번에 묶는거"
   ]
  },
  {
   "cell_type": "code",
   "execution_count": 3,
   "id": "0b457cdd",
   "metadata": {},
   "outputs": [
    {
     "name": "stdout",
     "output_type": "stream",
     "text": [
      "['+82', '01-2345-6789']\n",
      "국내전화번호 : 01-2345-6789\n"
     ]
    }
   ],
   "source": [
    "str = \"+82-01-2345-6789\"\n",
    "split_num = str.split(\"-\",1) #maxsplit을 이용한 한개만 나누기\n",
    "print(split_num)\n",
    "print(\"국내전화번호 : {0}\". format(split_num[1])) #format써서 국내번호만 표시하기"
   ]
  },
  {
   "cell_type": "code",
   "execution_count": 5,
   "id": "99f6e186",
   "metadata": {},
   "outputs": [
    {
     "data": {
      "text/plain": [
       "'pppddas'"
      ]
     },
     "execution_count": 5,
     "metadata": {},
     "output_type": "execute_result"
    }
   ],
   "source": [
    "\"aaaapppddas\".strip('a') #strip은 제거하는 함수"
   ]
  },
  {
   "cell_type": "code",
   "execution_count": 8,
   "id": "381a660a",
   "metadata": {},
   "outputs": [
    {
     "data": {
      "text/plain": [
       "'Python'"
      ]
     },
     "execution_count": 8,
     "metadata": {},
     "output_type": "execute_result"
    }
   ],
   "source": [
    "str = \"aaaabbPythonbbbaa\"\n",
    "temp1 = str.strip('a')\n",
    "temp2 = temp1.strip('b')\n",
    "temp2"
   ]
  },
  {
   "cell_type": "code",
   "execution_count": 10,
   "id": "262a0a7a",
   "metadata": {},
   "outputs": [
    {
     "data": {
      "text/plain": [
       "'Python'"
      ]
     },
     "execution_count": 10,
     "metadata": {},
     "output_type": "execute_result"
    }
   ],
   "source": [
    "str = \"aaaabbPythonbbbaa\"\n",
    "temp1 = str.strip('ab') #이런식으로 뭉쳐서 해도 하나씩으로 처리하고 빼줌\n",
    "temp1"
   ]
  },
  {
   "cell_type": "code",
   "execution_count": 11,
   "id": "8e872e2a",
   "metadata": {},
   "outputs": [
    {
     "data": {
      "text/plain": [
       "'Python'"
      ]
     },
     "execution_count": 11,
     "metadata": {},
     "output_type": "execute_result"
    }
   ],
   "source": [
    "str = \"aaaabbPythonbbbaa\"\n",
    "temp1 = str.strip('ba') #이런식으로 순서상관없음 , ()안에 문자가 들어가도 노상관\n",
    "temp1"
   ]
  },
  {
   "cell_type": "code",
   "execution_count": 1,
   "id": "8bc7f538",
   "metadata": {},
   "outputs": [
    {
     "name": "stdout",
     "output_type": "stream",
     "text": [
      "bbPythonbbbaa\n",
      "Pythonbbbaa\n"
     ]
    }
   ],
   "source": [
    "str = \"aaaabbPythonbbbaa\"\n",
    "temp1 = str.lstrip('a') #왼쪽만 지우고싶으면 lstrip 오른쪽은 rstrip\n",
    "temp2 = temp1.lstrip('b')\n",
    "print(temp1)\n",
    "print(temp2)"
   ]
  },
  {
   "cell_type": "code",
   "execution_count": null,
   "id": "3105aa7a",
   "metadata": {},
   "outputs": [],
   "source": []
  }
 ],
 "metadata": {
  "kernelspec": {
   "display_name": "Python 3",
   "language": "python",
   "name": "python3"
  },
  "language_info": {
   "codemirror_mode": {
    "name": "ipython",
    "version": 3
   },
   "file_extension": ".py",
   "mimetype": "text/x-python",
   "name": "python",
   "nbconvert_exporter": "python",
   "pygments_lexer": "ipython3",
   "version": "3.8.8"
  }
 },
 "nbformat": 4,
 "nbformat_minor": 5
}
