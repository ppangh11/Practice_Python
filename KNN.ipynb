{
 "cells": [
  {
   "cell_type": "markdown",
   "id": "1f92061d",
   "metadata": {},
   "source": [
    "# KNN실습"
   ]
  },
  {
   "cell_type": "code",
   "execution_count": 1,
   "id": "56a04038",
   "metadata": {},
   "outputs": [],
   "source": [
    "from sklearn.neighbors import KNeighborsClassifier"
   ]
  },
  {
   "cell_type": "code",
   "execution_count": 10,
   "id": "60527fb7",
   "metadata": {},
   "outputs": [
    {
     "name": "stdout",
     "output_type": "stream",
     "text": [
      "[1]\n"
     ]
    }
   ],
   "source": [
    "classifier = KNeighborsClassifier(n_neighbors = 3) #k의 개수\n",
    "training_points = [\n",
    "[0.5, 0.2, 0.1],\n",
    "[0.9, 0.7, 0.3],\n",
    "[0.4, 0.5, 0.7]\n",
    "]\n",
    "training_labels = [0, 1, 1] #각각의 라벨을 지정 0.5 0.9 0.4 >> 0 이런식으로\n",
    "classifier.fit(training_points, training_labels) #fit =  결과내주는거\n",
    "unknown_points = [\n",
    "[0.2, 0.1, 0.7]\n",
    "]\n",
    "guesses = classifier.predict(unknown_points) #predict = 예측하는거\n",
    "\n",
    "print(guesses) #1로 예측이 됐다~"
   ]
  },
  {
   "cell_type": "code",
   "execution_count": 18,
   "id": "6130cdf4",
   "metadata": {
    "scrolled": true
   },
   "outputs": [
    {
     "name": "stdout",
     "output_type": "stream",
     "text": [
      "[0]\n"
     ]
    }
   ],
   "source": [
    "training_points = [\n",
    "[158, 58],\n",
    "[158, 59],\n",
    "[158, 63],\n",
    "[160, 59],\n",
    "[160, 60],\n",
    "[163, 60],\n",
    "[163, 61],\n",
    "[160, 64],\n",
    "[163, 64],\n",
    "[165, 61],\n",
    "[165, 62],\n",
    "[165, 65],\n",
    "[168, 62],\n",
    "[168, 63],\n",
    "[168, 66],\n",
    "[170, 63],\n",
    "[170, 64],\n",
    "[170, 68]\n",
    "]\n",
    "\n",
    "training_label = [0, 0, 0, 0, 0, 0, 0, 1, 1, 1, 1, 1, 1, 1, 1, 1, 1, 1]\n",
    "#label = m 은 0으로 label = L 은 1로\n",
    "\n",
    "unknown_points = [[161,61],]\n",
    "classifier = KNeighborsClassifier(n_neighbors = 3)\n",
    "classifier.fit(training_points, training_label)\n",
    "guesses = classifier.predict(unknown_points)\n",
    "print(guesses)"
   ]
  },
  {
   "cell_type": "markdown",
   "id": "0843a3df",
   "metadata": {},
   "source": [
    "# train-test split"
   ]
  },
  {
   "cell_type": "code",
   "execution_count": 19,
   "id": "131547a7",
   "metadata": {},
   "outputs": [],
   "source": [
    "from sklearn.model_selection import train_test_split"
   ]
  },
  {
   "cell_type": "code",
   "execution_count": 67,
   "id": "30a3e2a5",
   "metadata": {},
   "outputs": [
    {
     "name": "stdout",
     "output_type": "stream",
     "text": [
      "[1 0 1 1]\n"
     ]
    }
   ],
   "source": [
    "training_points = [\n",
    "[158, 58],\n",
    "[158, 59],\n",
    "[158, 63],\n",
    "[160, 59],\n",
    "[160, 60],\n",
    "[163, 60],\n",
    "[163, 61],\n",
    "[160, 64],\n",
    "[163, 64],\n",
    "[165, 61],\n",
    "[165, 62],\n",
    "[165, 65],\n",
    "[168, 62],\n",
    "[168, 63],\n",
    "[168, 66],\n",
    "[170, 63],\n",
    "[170, 64],\n",
    "[170, 68]\n",
    "]\n",
    "training_labels = [0, 0, 0, 0, 0, 0, 0, 1, 1, 1, 1, 1, 1, 1, 1, 1, 1, 1]\n",
    "X_train, X_test, y_train, y_test = train_test_split(training_points, training_labels, test_size=0.2, random_state=4)\n",
    "classifier = KNeighborsClassifier(n_neighbors = 5)\n",
    "classifier.fit(X_train, y_train)\n",
    "guesses = classifier.predict(X_test)\n",
    "print(guesses)"
   ]
  },
  {
   "cell_type": "markdown",
   "id": "fd202bc1",
   "metadata": {},
   "source": [
    "# 분류 모델 성능 평가지표"
   ]
  },
  {
   "cell_type": "code",
   "execution_count": 43,
   "id": "447de12d",
   "metadata": {},
   "outputs": [],
   "source": [
    "# F로 시작하면 오분류(FP,FN) # T는 분류는 맞았고\n",
    "#P는 1로 N은 0으로"
   ]
  },
  {
   "cell_type": "code",
   "execution_count": 46,
   "id": "549f9f92",
   "metadata": {},
   "outputs": [],
   "source": [
    "from sklearn.metrics import confusion_matrix\n",
    "from sklearn import metrics"
   ]
  },
  {
   "cell_type": "code",
   "execution_count": 68,
   "id": "f089ceb1",
   "metadata": {},
   "outputs": [
    {
     "name": "stdout",
     "output_type": "stream",
     "text": [
      "[[1 1]\n",
      " [0 2]]\n",
      "0.75\n",
      "0.6666666666666666\n",
      "1.0\n",
      "0.8\n"
     ]
    }
   ],
   "source": [
    "print(confusion_matrix(y_test, guesses))\n",
    "print(metrics.accuracy_score(y_test, guesses))\n",
    "print(metrics.precision_score(y_test, guesses, average='binary'))\n",
    "print(metrics.recall_score(y_test, guesses, average='binary'))\n",
    "print(metrics.f1_score(y_test, guesses, average='binary'))"
   ]
  },
  {
   "cell_type": "code",
   "execution_count": 77,
   "id": "e903ffeb",
   "metadata": {},
   "outputs": [
    {
     "name": "stdout",
     "output_type": "stream",
     "text": [
      "[[29  5]\n",
      " [ 9 71]]\n",
      "accuracy:  0.88\n",
      "error rate: 0.12\n",
      "precision:  0.93\n",
      "recall:  0.89\n",
      "f1:  0.91\n"
     ]
    }
   ],
   "source": [
    "from sklearn.datasets import load_breast_cancer\n",
    "from sklearn.model_selection import train_test_split\n",
    "\n",
    "cancer = load_breast_cancer()\n",
    "training_points = cancer.data \n",
    "training_labels = cancer.target\n",
    "#숫자로 되어있기 때문에 그냥 분석 실시하면 됨 (처리x)\n",
    "\n",
    "\n",
    "X_train, X_test, y_train, y_test = train_test_split(training_points, training_labels, test_size=0.2, random_state=4)\n",
    "classifier = KNeighborsClassifier(n_neighbors = 5)\n",
    "classifier.fit(X_train, y_train)\n",
    "guesses = classifier.predict(X_test)\n",
    "print(confusion_matrix(y_test, guesses))\n",
    "print(\"accuracy: \",round(metrics.accuracy_score(y_test, guesses),2))\n",
    "print(\"error rate:\",round(1 - metrics.accuracy_score(y_test, guesses),2))\n",
    "print(\"precision: \",round(metrics.precision_score(y_test, guesses, average='binary'),2))\n",
    "print(\"recall: \",round(metrics.recall_score(y_test, guesses, average='binary'),2))\n",
    "print(\"f1: \",round(metrics.f1_score(y_test, guesses, average='binary'),2))"
   ]
  },
  {
   "cell_type": "markdown",
   "id": "1e9dcd62",
   "metadata": {},
   "source": [
    "# 빅데이터 분석의 일련과정\n",
    "### 라이브러리 로드"
   ]
  },
  {
   "cell_type": "code",
   "execution_count": 119,
   "id": "039d0fef",
   "metadata": {},
   "outputs": [],
   "source": [
    "import pandas as pd\n",
    "import numpy as np\n",
    "import matplotlib.pyplot as plt\n",
    "from sklearn.model_selection import train_test_split\n",
    "from sklearn.neighbors import KNeighborsClassifier\n",
    "from sklearn.metrics import confusion_matrix\n",
    "from sklearn import metrics\n",
    "from sklearn.preprocessing import LabelEncoder\n",
    "from sklearn.preprocessing import StandardScaler\n",
    "from sklearn.preprocessing import MinMaxScaler"
   ]
  },
  {
   "cell_type": "markdown",
   "id": "ebce2fb8",
   "metadata": {},
   "source": [
    "### 데이터 로드 및 관찰"
   ]
  },
  {
   "cell_type": "code",
   "execution_count": 87,
   "id": "80f6b24d",
   "metadata": {
    "scrolled": true
   },
   "outputs": [
    {
     "name": "stdout",
     "output_type": "stream",
     "text": [
      "   Unnamed: 0  Age  Sex     ChestPain  RestBP  Chol  Fbs  RestECG  MaxHR  \\\n",
      "0           1   63    1       typical     145   233    1        2    150   \n",
      "1           2   67    1  asymptomatic     160   286    0        2    108   \n",
      "2           3   67    1  asymptomatic     120   229    0        2    129   \n",
      "3           4   37    1    nonanginal     130   250    0        0    187   \n",
      "4           5   41    0    nontypical     130   204    0        2    172   \n",
      "\n",
      "   ExAng  Oldpeak  Slope   Ca        Thal  AHD  \n",
      "0      0      2.3      3  0.0       fixed   No  \n",
      "1      1      1.5      2  3.0      normal  Yes  \n",
      "2      1      2.6      2  2.0  reversable  Yes  \n",
      "3      0      3.5      3  0.0      normal   No  \n",
      "4      0      1.4      1  0.0      normal   No  \n",
      "<class 'pandas.core.frame.DataFrame'>\n",
      "RangeIndex: 303 entries, 0 to 302\n",
      "Data columns (total 15 columns):\n",
      " #   Column      Non-Null Count  Dtype  \n",
      "---  ------      --------------  -----  \n",
      " 0   Unnamed: 0  303 non-null    int64  \n",
      " 1   Age         303 non-null    int64  \n",
      " 2   Sex         303 non-null    int64  \n",
      " 3   ChestPain   303 non-null    object \n",
      " 4   RestBP      303 non-null    int64  \n",
      " 5   Chol        303 non-null    int64  \n",
      " 6   Fbs         303 non-null    int64  \n",
      " 7   RestECG     303 non-null    int64  \n",
      " 8   MaxHR       303 non-null    int64  \n",
      " 9   ExAng       303 non-null    int64  \n",
      " 10  Oldpeak     303 non-null    float64\n",
      " 11  Slope       303 non-null    int64  \n",
      " 12  Ca          299 non-null    float64\n",
      " 13  Thal        301 non-null    object \n",
      " 14  AHD         303 non-null    object \n",
      "dtypes: float64(2), int64(10), object(3)\n",
      "memory usage: 35.6+ KB\n",
      "None\n",
      "(303, 15)\n",
      "Unnamed: 0    0\n",
      "Age           0\n",
      "Sex           0\n",
      "ChestPain     0\n",
      "RestBP        0\n",
      "Chol          0\n",
      "Fbs           0\n",
      "RestECG       0\n",
      "MaxHR         0\n",
      "ExAng         0\n",
      "Oldpeak       0\n",
      "Slope         0\n",
      "Ca            4\n",
      "Thal          2\n",
      "AHD           0\n",
      "dtype: int64\n"
     ]
    }
   ],
   "source": [
    "df = pd.read_csv('Heart.csv')\n",
    "print(df.head())\n",
    "print(df.info())\n",
    "print(df.shape)\n",
    "print(df.isnull().sum())"
   ]
  },
  {
   "cell_type": "code",
   "execution_count": 88,
   "id": "f62d448a",
   "metadata": {},
   "outputs": [
    {
     "name": "stdout",
     "output_type": "stream",
     "text": [
      "   Unnamed: 0  Age  Sex     ChestPain  RestBP  Chol  Fbs  RestECG  MaxHR  \\\n",
      "0           1   63    1       typical     145   233    1        2    150   \n",
      "1           2   67    1  asymptomatic     160   286    0        2    108   \n",
      "2           3   67    1  asymptomatic     120   229    0        2    129   \n",
      "3           4   37    1    nonanginal     130   250    0        0    187   \n",
      "4           5   41    0    nontypical     130   204    0        2    172   \n",
      "\n",
      "   ExAng  Oldpeak  Slope   Ca        Thal  AHD  \n",
      "0      0      2.3      3  0.0       fixed   No  \n",
      "1      1      1.5      2  3.0      normal  Yes  \n",
      "2      1      2.6      2  2.0  reversable  Yes  \n",
      "3      0      3.5      3  0.0      normal   No  \n",
      "4      0      1.4      1  0.0      normal   No  \n",
      "<class 'pandas.core.frame.DataFrame'>\n",
      "Int64Index: 297 entries, 0 to 301\n",
      "Data columns (total 15 columns):\n",
      " #   Column      Non-Null Count  Dtype  \n",
      "---  ------      --------------  -----  \n",
      " 0   Unnamed: 0  297 non-null    int64  \n",
      " 1   Age         297 non-null    int64  \n",
      " 2   Sex         297 non-null    int64  \n",
      " 3   ChestPain   297 non-null    object \n",
      " 4   RestBP      297 non-null    int64  \n",
      " 5   Chol        297 non-null    int64  \n",
      " 6   Fbs         297 non-null    int64  \n",
      " 7   RestECG     297 non-null    int64  \n",
      " 8   MaxHR       297 non-null    int64  \n",
      " 9   ExAng       297 non-null    int64  \n",
      " 10  Oldpeak     297 non-null    float64\n",
      " 11  Slope       297 non-null    int64  \n",
      " 12  Ca          297 non-null    float64\n",
      " 13  Thal        297 non-null    object \n",
      " 14  AHD         297 non-null    object \n",
      "dtypes: float64(2), int64(10), object(3)\n",
      "memory usage: 37.1+ KB\n",
      "None\n",
      "(297, 15)\n",
      "Unnamed: 0    0\n",
      "Age           0\n",
      "Sex           0\n",
      "ChestPain     0\n",
      "RestBP        0\n",
      "Chol          0\n",
      "Fbs           0\n",
      "RestECG       0\n",
      "MaxHR         0\n",
      "ExAng         0\n",
      "Oldpeak       0\n",
      "Slope         0\n",
      "Ca            0\n",
      "Thal          0\n",
      "AHD           0\n",
      "dtype: int64\n"
     ]
    }
   ],
   "source": [
    "df_n = df.dropna()\n",
    "## 결측치 없애기\n",
    "print(df_n.head())\n",
    "print(df_n.info())\n",
    "print(df_n.shape)\n",
    "print(df_n.isnull().sum())"
   ]
  },
  {
   "cell_type": "markdown",
   "id": "3d304ec8",
   "metadata": {},
   "source": [
    "### 데이터 전처리(str >> numeric)"
   ]
  },
  {
   "cell_type": "code",
   "execution_count": 91,
   "id": "e7948f31",
   "metadata": {},
   "outputs": [
    {
     "name": "stdout",
     "output_type": "stream",
     "text": [
      "   Unnamed: 0  Age  Sex  RestBP  Chol  Fbs  RestECG  MaxHR  ExAng  Oldpeak  \\\n",
      "0           1   63    1     145   233    1        2    150      0      2.3   \n",
      "1           2   67    1     160   286    0        2    108      1      1.5   \n",
      "2           3   67    1     120   229    0        2    129      1      2.6   \n",
      "3           4   37    1     130   250    0        0    187      0      3.5   \n",
      "4           5   41    0     130   204    0        2    172      0      1.4   \n",
      "\n",
      "   Slope   Ca  ChestPain_encoded  Thal_encoded  AHD_encoded  \n",
      "0      3  0.0                  3             0            0  \n",
      "1      2  3.0                  0             1            1  \n",
      "2      2  2.0                  0             2            1  \n",
      "3      3  0.0                  1             1            0  \n",
      "4      1  0.0                  2             1            0  \n"
     ]
    },
    {
     "name": "stderr",
     "output_type": "stream",
     "text": [
      "<ipython-input-91-fc6ba91801b5>:5: SettingWithCopyWarning: \n",
      "A value is trying to be set on a copy of a slice from a DataFrame.\n",
      "Try using .loc[row_indexer,col_indexer] = value instead\n",
      "\n",
      "See the caveats in the documentation: https://pandas.pydata.org/pandas-docs/stable/user_guide/indexing.html#returning-a-view-versus-a-copy\n",
      "  df_n['ChestPain_encoded'] = ChestPain_encoded\n",
      "<ipython-input-91-fc6ba91801b5>:6: SettingWithCopyWarning: \n",
      "A value is trying to be set on a copy of a slice from a DataFrame.\n",
      "Try using .loc[row_indexer,col_indexer] = value instead\n",
      "\n",
      "See the caveats in the documentation: https://pandas.pydata.org/pandas-docs/stable/user_guide/indexing.html#returning-a-view-versus-a-copy\n",
      "  df_n['Thal_encoded'] = Thal_encoded\n",
      "<ipython-input-91-fc6ba91801b5>:7: SettingWithCopyWarning: \n",
      "A value is trying to be set on a copy of a slice from a DataFrame.\n",
      "Try using .loc[row_indexer,col_indexer] = value instead\n",
      "\n",
      "See the caveats in the documentation: https://pandas.pydata.org/pandas-docs/stable/user_guide/indexing.html#returning-a-view-versus-a-copy\n",
      "  df_n['AHD_encoded'] = AHD_encoded\n"
     ]
    }
   ],
   "source": [
    "le = LabelEncoder()\n",
    "ChestPain_encoded = le.fit_transform(df_n['ChestPain'])\n",
    "Thal_encoded = le.fit_transform(df_n['Thal'])\n",
    "AHD_encoded = le.fit_transform(df_n['AHD'])\n",
    "df_n['ChestPain_encoded'] = ChestPain_encoded\n",
    "df_n['Thal_encoded'] = Thal_encoded\n",
    "df_n['AHD_encoded'] = AHD_encoded\n",
    "df_n = df_n.drop(columns = ['ChestPain','Thal','AHD'])\n",
    "\n",
    "print(df_n.head())"
   ]
  },
  {
   "cell_type": "markdown",
   "id": "d1e85212",
   "metadata": {},
   "source": [
    "### 그래프 그려서 이상치 및 다른 정보 알아보기"
   ]
  },
  {
   "cell_type": "code",
   "execution_count": 93,
   "id": "80ca6ce5",
   "metadata": {},
   "outputs": [
    {
     "data": {
      "image/png": "[encoded data removed]",
      "text/plain": [
       "<Figure size 432x288 with 1 Axes>"
      ]
     },
     "metadata": {
      "needs_background": "light"
     },
     "output_type": "display_data"
    }
   ],
   "source": [
    "plt.hist(df['RestBP'])\n",
    "plt.xlabel('Resting Blood Pressure')\n",
    "plt.ylabel('Value')\n",
    "plt.show()"
   ]
  },
  {
   "cell_type": "code",
   "execution_count": 94,
   "id": "12d8348a",
   "metadata": {},
   "outputs": [
    {
     "data": {
      "image/png": "[encoded data removed]",
      "text/plain": [
       "<Figure size 432x288 with 1 Axes>"
      ]
     },
     "metadata": {
      "needs_background": "light"
     },
     "output_type": "display_data"
    }
   ],
   "source": [
    "plt.hist(df['Chol'])\n",
    "plt.xlabel('Resting Blood Pressure')\n",
    "plt.ylabel('Value')\n",
    "plt.show()"
   ]
  },
  {
   "cell_type": "code",
   "execution_count": 96,
   "id": "6eafd6c4",
   "metadata": {},
   "outputs": [
    {
     "data": {
      "image/png": "[encoded data removed]",
      "text/plain": [
       "<Figure size 432x288 with 1 Axes>"
      ]
     },
     "metadata": {
      "needs_background": "light"
     },
     "output_type": "display_data"
    }
   ],
   "source": [
    "data_to_boxplot = [df['Age'], df['RestBP'], df['Chol'],df['MaxHR']]\n",
    "plt.boxplot(data_to_boxplot)\n",
    "plt.xlabel('Attributes')\n",
    "plt.ylabel('Value')\n",
    "plt.show()"
   ]
  },
  {
   "cell_type": "markdown",
   "id": "1637ff76",
   "metadata": {},
   "source": [
    "### train - test set  나누기"
   ]
  },
  {
   "cell_type": "code",
   "execution_count": 100,
   "id": "37754881",
   "metadata": {},
   "outputs": [],
   "source": [
    "training_points = df_n.drop(columns=['AHD_encoded'])\n",
    "training_labels = df_n['AHD_encoded']\n",
    "\n",
    "X_train, X_test, y_train, y_test = train_test_split(training_points,training_labels,test_size=0.3,random_state=4)"
   ]
  },
  {
   "cell_type": "markdown",
   "id": "7a85999e",
   "metadata": {},
   "source": [
    "### accuracy 확인 및 최적의 정확도 찾기"
   ]
  },
  {
   "cell_type": "code",
   "execution_count": 103,
   "id": "94379f2b",
   "metadata": {},
   "outputs": [
    {
     "name": "stdout",
     "output_type": "stream",
     "text": [
      "[[26 16]\n",
      " [23 25]]\n",
      "0.5666666666666667\n"
     ]
    }
   ],
   "source": [
    "classifier = KNeighborsClassifier(n_neighbors = 5)\n",
    "classifier.fit(X_train, y_train)\n",
    "guesses = classifier.predict(X_test)\n",
    "print(confusion_matrix(y_test, guesses))\n",
    "print(metrics.accuracy_score(y_test, guesses))"
   ]
  },
  {
   "cell_type": "markdown",
   "id": "358a1aca",
   "metadata": {},
   "source": [
    "##### K를 조절하여 정확도 개선"
   ]
  },
  {
   "cell_type": "code",
   "execution_count": 115,
   "id": "053a66a4",
   "metadata": {},
   "outputs": [
    {
     "name": "stdout",
     "output_type": "stream",
     "text": [
      "max_k: 23\n",
      "max: 0.6666666666666666\n",
      "f1:  0.49\n"
     ]
    },
    {
     "data": {
      "image/png": "[encoded data removed]",
      "text/plain": [
       "<Figure size 432x288 with 1 Axes>"
      ]
     },
     "metadata": {
      "needs_background": "light"
     },
     "output_type": "display_data"
    }
   ],
   "source": [
    "k_range = range(1, 50)\n",
    "\n",
    "accuracy_scores = []\n",
    "\n",
    "for k in k_range:\n",
    "    classifier = KNeighborsClassifier(n_neighbors = k)\n",
    "    classifier.fit(X_train, y_train)\n",
    "    guesses = classifier.predict(X_test)\n",
    "    accuracy_scores.append(metrics.accuracy_score(y_test, guesses))\n",
    "print(\"max_k:\", accuracy_scores.index(max(accuracy_scores))+1)\n",
    "print(\"max:\", max(accuracy_scores))\n",
    "print(\"f1: \",round(metrics.f1_score(y_test, guesses, average='binary'),2))\n",
    "\n",
    "plt.plot(k_range, accuracy_scores)\n",
    "plt.xlabel('Value of K for KNN')\n",
    "plt.ylabel('Testing Accuracy')\n",
    "plt.show()"
   ]
  },
  {
   "cell_type": "markdown",
   "id": "1bf2dcbf",
   "metadata": {},
   "source": [
    "##### Training, Test set proportion 변경"
   ]
  },
  {
   "cell_type": "code",
   "execution_count": 116,
   "id": "9533a00d",
   "metadata": {},
   "outputs": [
    {
     "name": "stdout",
     "output_type": "stream",
     "text": [
      "max_k: 23\n",
      "max: 0.6666666666666666\n",
      "f1:  0.49\n"
     ]
    },
    {
     "data": {
      "image/png": "[encoded data removed]",
      "text/plain": [
       "<Figure size 432x288 with 1 Axes>"
      ]
     },
     "metadata": {
      "needs_background": "light"
     },
     "output_type": "display_data"
    }
   ],
   "source": [
    "training_points = df_n.drop(columns=['AHD_encoded'])\n",
    "training_labels = df_n['AHD_encoded']\n",
    "\n",
    "X_train, X_test, y_train, y_test = train_test_split(training_points,training_labels,test_size=0.2,random_state=4)\n",
    "\n",
    "k_range = range(1, 50)\n",
    "\n",
    "accuracy_scores = []\n",
    "\n",
    "for k in k_range:\n",
    "    classifier = KNeighborsClassifier(n_neighbors = k)\n",
    "    classifier.fit(X_train, y_train)\n",
    "    guesses = classifier.predict(X_test)\n",
    "    accuracy_scores.append(metrics.accuracy_score(y_test, guesses))\n",
    "print(\"max_k:\", accuracy_scores.index(max(accuracy_scores))+1)\n",
    "print(\"max:\", max(accuracy_scores))\n",
    "print(\"f1: \",round(metrics.f1_score(y_test, guesses, average='binary'),2))\n",
    "\n",
    "plt.plot(k_range, accuracy_scores)\n",
    "plt.xlabel('Value of K for KNN')\n",
    "plt.ylabel('Testing Accuracy')\n",
    "plt.show()"
   ]
  },
  {
   "cell_type": "markdown",
   "id": "392dfc1e",
   "metadata": {},
   "source": [
    "##### standardization, nomalization 으로 성능향상"
   ]
  },
  {
   "cell_type": "code",
   "execution_count": 136,
   "id": "ea57b41f",
   "metadata": {},
   "outputs": [
    {
     "name": "stdout",
     "output_type": "stream",
     "text": [
      "max_k: 3\n",
      "max: 0.7\n",
      "f1:  0.21\n"
     ]
    },
    {
     "data": {
      "image/png": "[encoded data removed]",
      "text/plain": [
       "<Figure size 432x288 with 1 Axes>"
      ]
     },
     "metadata": {
      "needs_background": "light"
     },
     "output_type": "display_data"
    }
   ],
   "source": [
    "## Standardzation\n",
    "df_model = df_n.copy()\n",
    "\n",
    "scaler = StandardScaler()\n",
    "\n",
    "features = [['Age', 'RestBP', 'Chol', 'MaxHR', 'Oldpeak']]\n",
    "for feature in features:\n",
    "    df_model[feature] = scaler.fit_transform(df_model[feature])\n",
    "\n",
    "training_points = df_model.drop(columns=['AHD_encoded'])\n",
    "training_labels = df_model['AHD_encoded']\n",
    "\n",
    "X_train, X_test, y_train, y_test = train_test_split(training_points,training_labels,test_size=0.2,random_state=4)\n",
    "\n",
    "k_range = range(1, 50)\n",
    "\n",
    "accuracy_scores = []\n",
    "\n",
    "for k in k_range:\n",
    "    classifier = KNeighborsClassifier(n_neighbors = k)\n",
    "    classifier.fit(X_train, y_train)\n",
    "    guesses = classifier.predict(X_test)\n",
    "    accuracy_scores.append(metrics.accuracy_score(y_test, guesses))\n",
    "print(\"max_k:\", accuracy_scores.index(max(accuracy_scores))+1)\n",
    "print(\"max:\", max(accuracy_scores))\n",
    "print(\"f1: \",round(metrics.f1_score(y_test, guesses, average='binary'),2))\n",
    "\n",
    "plt.plot(k_range, accuracy_scores)\n",
    "plt.xlabel('Value of K for KNN')\n",
    "plt.ylabel('Testing Accuracy')\n",
    "plt.show()"
   ]
  },
  {
   "cell_type": "code",
   "execution_count": 138,
   "id": "94e2eb8a",
   "metadata": {},
   "outputs": [
    {
     "name": "stdout",
     "output_type": "stream",
     "text": [
      "max_k: 1\n",
      "max: 0.65\n",
      "f1:  0.21\n"
     ]
    },
    {
     "data": {
      "image/png": "[encoded data removed]",
      "text/plain": [
       "<Figure size 432x288 with 1 Axes>"
      ]
     },
     "metadata": {
      "needs_background": "light"
     },
     "output_type": "display_data"
    }
   ],
   "source": [
    "df_model = df_n.copy()\n",
    "\n",
    "scaler = MinMaxScaler()\n",
    "\n",
    "features = [['Age', 'RestBP', 'Chol', 'MaxHR', 'Oldpeak']]\n",
    "for feature in features:\n",
    "    df_model[feature] = scaler.fit_transform(df_model[feature])\n",
    "\n",
    "training_points = df_model.drop(columns=['AHD_encoded'])\n",
    "training_labels = df_model['AHD_encoded']\n",
    "\n",
    "X_train, X_test, y_train, y_test = train_test_split(training_points,training_labels,test_size=0.2,random_state=4)\n",
    "\n",
    "k_range = range(1, 50)\n",
    "\n",
    "accuracy_scores = []\n",
    "\n",
    "for k in k_range:\n",
    "    classifier = KNeighborsClassifier(n_neighbors = k)\n",
    "    classifier.fit(X_train, y_train)\n",
    "    guesses = classifier.predict(X_test)\n",
    "    accuracy_scores.append(metrics.accuracy_score(y_test, guesses))\n",
    "print(\"max_k:\", accuracy_scores.index(max(accuracy_scores))+1)\n",
    "print(\"max:\", max(accuracy_scores))\n",
    "print(\"f1: \",round(metrics.f1_score(y_test, guesses, average='binary'),2))\n",
    "\n",
    "plt.plot(k_range, accuracy_scores)\n",
    "plt.xlabel('Value of K for KNN')\n",
    "plt.ylabel('Testing Accuracy')\n",
    "plt.show()"
   ]
  },
  {
   "cell_type": "code",
   "execution_count": null,
   "id": "41b6145f",
   "metadata": {},
   "outputs": [],
   "source": []
  }
 ],
 "metadata": {
  "kernelspec": {
   "display_name": "Python 3",
   "language": "python",
   "name": "python3"
  },
  "language_info": {
   "codemirror_mode": {
    "name": "ipython",
    "version": 3
   },
   "file_extension": ".py",
   "mimetype": "text/x-python",
   "name": "python",
   "nbconvert_exporter": "python",
   "pygments_lexer": "ipython3",
   "version": "3.8.8"
  }
 },
 "nbformat": 4,
 "nbformat_minor": 5
}
